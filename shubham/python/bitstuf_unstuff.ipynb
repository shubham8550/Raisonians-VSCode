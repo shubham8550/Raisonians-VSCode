{
 "cells": [
  {
   "cell_type": "code",
   "execution_count": 15,
   "metadata": {},
   "outputs": [],
   "source": [
    "stream=\"111111111111111111111111111111\""
   ]
  },
  {
   "cell_type": "code",
   "execution_count": 11,
   "metadata": {},
   "outputs": [
    {
     "name": "stdout",
     "output_type": "stream",
     "text": [
      "11111011111101111110111111011111101\n"
     ]
    }
   ],
   "source": [
    "output=\"\"\n",
    "flag=0\n",
    "for i in stream:\n",
    "    if(i==\"1\"):\n",
    "        if(flag==5):\n",
    "            flag=0\n",
    "            output+=\"01\"\n",
    "        else:\n",
    "            flag+=1\n",
    "            output+=\"1\"\n",
    "    else:\n",
    "        output+=\"0\"\n",
    "\n",
    "\n",
    "print(output)"
   ]
  },
  {
   "cell_type": "code",
   "execution_count": 12,
   "metadata": {},
   "outputs": [
    {
     "name": "stdout",
     "output_type": "stream",
     "text": [
      "111111111111111111111111111111\n"
     ]
    }
   ],
   "source": [
    "stream=output\n",
    "deoutput=\"\"\n",
    "flag=1\n",
    "for i in stream:\n",
    "    if(i==\"1\"):\n",
    "        \n",
    "        \n",
    "        flag+=1\n",
    "        deoutput+=\"1\"\n",
    "    elif(flag==6 and i==\"0\"):\n",
    "        \n",
    "        flag=0\n",
    "\n",
    "    else:\n",
    "        deoutput+=\"0\"\n",
    "        flag=0\n",
    "        \n",
    "\n",
    "\n",
    "print(deoutput)"
   ]
  },
  {
   "cell_type": "code",
   "execution_count": 16,
   "metadata": {},
   "outputs": [
    {
     "name": "stdout",
     "output_type": "stream",
     "text": [
      "111111111111111111111111111111\n"
     ]
    }
   ],
   "source": [
    "print(stream)"
   ]
  },
  {
   "cell_type": "code",
   "execution_count": 17,
   "metadata": {},
   "outputs": [
    {
     "data": {
      "text/plain": [
       "'111111111111111111111111111111'"
      ]
     },
     "execution_count": 17,
     "metadata": {},
     "output_type": "execute_result"
    }
   ],
   "source": [
    "deoutput"
   ]
  },
  {
   "cell_type": "code",
   "execution_count": 18,
   "metadata": {},
   "outputs": [
    {
     "data": {
      "text/plain": [
       "True"
      ]
     },
     "execution_count": 18,
     "metadata": {},
     "output_type": "execute_result"
    }
   ],
   "source": [
    "stream==deoutput"
   ]
  },
  {
   "cell_type": "code",
   "execution_count": null,
   "metadata": {},
   "outputs": [],
   "source": []
  }
 ],
 "metadata": {
  "interpreter": {
   "hash": "31f2aee4e71d21fbe5cf8b01ff0e069b9275f58929596ceb00d14d90e3e16cd6"
  },
  "kernelspec": {
   "display_name": "Python 3.6.9 64-bit",
   "language": "python",
   "name": "python3"
  },
  "language_info": {
   "codemirror_mode": {
    "name": "ipython",
    "version": 3
   },
   "file_extension": ".py",
   "mimetype": "text/x-python",
   "name": "python",
   "nbconvert_exporter": "python",
   "pygments_lexer": "ipython3",
   "version": "3.6.9"
  },
  "orig_nbformat": 4
 },
 "nbformat": 4,
 "nbformat_minor": 2
}
