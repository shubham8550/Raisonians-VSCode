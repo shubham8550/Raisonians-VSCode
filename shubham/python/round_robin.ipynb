{
 "cells": [
  {
   "cell_type": "code",
   "execution_count": 43,
   "metadata": {},
   "outputs": [],
   "source": [
    "# job=[[\"P1\",21,0],[\"P2\",3,0],[\"P3\",6,0],[\"P4\",2,0]]\n",
    "# q=5\n",
    "jj=[[\"P1\",38,0],[\"P2\",8,0],[\"P3\",11,0],[\"P4\",6,0],[\"P5\",22,0]]\n",
    "q=5"
   ]
  },
  {
   "cell_type": "code",
   "execution_count": 44,
   "metadata": {},
   "outputs": [
    {
     "name": "stdout",
     "output_type": "stream",
     "text": [
      "0\n",
      "['P1', 0, 5]\n",
      "[['P1', 33, 0], ['P2', 8, 0], ['P3', 11, 0], ['P4', 6, 0], ['P5', 22, 0]]\n",
      "1\n",
      "['P2', 5, 10]\n",
      "[['P1', 33, 0], ['P2', 3, 0], ['P3', 11, 0], ['P4', 6, 0], ['P5', 22, 0]]\n",
      "2\n",
      "['P3', 10, 15]\n",
      "[['P1', 33, 0], ['P2', 3, 0], ['P3', 6, 0], ['P4', 6, 0], ['P5', 22, 0]]\n",
      "3\n",
      "['P4', 15, 20]\n",
      "[['P1', 33, 0], ['P2', 3, 0], ['P3', 6, 0], ['P4', 1, 0], ['P5', 22, 0]]\n",
      "4\n",
      "['P5', 20, 25]\n",
      "[['P1', 33, 0], ['P2', 3, 0], ['P3', 6, 0], ['P4', 1, 0], ['P5', 17, 0]]\n",
      "0\n",
      "['P1', 25, 30]\n",
      "[['P1', 28, 0], ['P2', 3, 0], ['P3', 6, 0], ['P4', 1, 0], ['P5', 17, 0]]\n",
      "1\n",
      "['P2', 30, 33]\n",
      "[['P1', 28, 0], ['P3', 6, 0], ['P4', 1, 0], ['P5', 17, 0]]\n",
      "2\n",
      "['P4', 33, 34]\n",
      "[['P1', 28, 0], ['P3', 6, 0], ['P5', 17, 0]]\n",
      "0\n",
      "['P1', 34, 39]\n",
      "[['P1', 23, 0], ['P3', 6, 0], ['P5', 17, 0]]\n",
      "1\n",
      "['P3', 39, 44]\n",
      "[['P1', 23, 0], ['P3', 1, 0], ['P5', 17, 0]]\n",
      "2\n",
      "['P5', 44, 49]\n",
      "[['P1', 23, 0], ['P3', 1, 0], ['P5', 12, 0]]\n",
      "0\n",
      "['P1', 49, 54]\n",
      "[['P1', 18, 0], ['P3', 1, 0], ['P5', 12, 0]]\n",
      "1\n",
      "['P3', 54, 55]\n",
      "[['P1', 18, 0], ['P5', 12, 0]]\n",
      "0\n",
      "['P1', 55, 60]\n",
      "[['P1', 13, 0], ['P5', 12, 0]]\n",
      "1\n",
      "['P5', 60, 65]\n",
      "[['P1', 13, 0], ['P5', 7, 0]]\n",
      "0\n",
      "['P1', 65, 70]\n",
      "[['P1', 8, 0], ['P5', 7, 0]]\n",
      "1\n",
      "['P5', 70, 75]\n",
      "[['P1', 8, 0], ['P5', 2, 0]]\n",
      "0\n",
      "['P1', 75, 80]\n",
      "[['P1', 3, 0], ['P5', 2, 0]]\n",
      "1\n",
      "['P5', 80, 82]\n",
      "[['P1', 3, 0]]\n",
      "0\n",
      "['P1', 82, 85]\n",
      "[]\n"
     ]
    }
   ],
   "source": [
    "job=jj\n",
    "op=[]\n",
    "time=0\n",
    "ind=0\n",
    "while(len(job)!=0):\n",
    "    print(ind)\n",
    "\n",
    "    [p,bt,at]=job[ind]\n",
    "    if(bt>q):\n",
    "        job[ind][1]=job[ind][1]-q\n",
    "        op.append([p,time,time+q])\n",
    "        time+=q\n",
    "    elif(bt<=q):\n",
    "       # job[ind][1]=job[ind][1]-q\n",
    "        op.append([p,time,time+job[ind][1]])\n",
    "        time+=job[ind][1]\n",
    "        job.pop(ind)\n",
    "    \n",
    "\n",
    "    print(op[-1])\n",
    "    if(ind>=len(job)-1):\n",
    "        ind=0\n",
    "    else:\n",
    "        ind+=1\n",
    "    #time+=1\n",
    "    print(job)\n",
    "\n"
   ]
  },
  {
   "cell_type": "code",
   "execution_count": 45,
   "metadata": {},
   "outputs": [
    {
     "data": {
      "text/plain": [
       "0"
      ]
     },
     "execution_count": 45,
     "metadata": {},
     "output_type": "execute_result"
    }
   ],
   "source": [
    "\n",
    "for [p,bt,at] in jj:\n",
    "    for [pp,pat,cct] in reversed(op):\n",
    "        if(p==pp):\n",
    "            "
   ]
  }
 ],
 "metadata": {
  "interpreter": {
   "hash": "31f2aee4e71d21fbe5cf8b01ff0e069b9275f58929596ceb00d14d90e3e16cd6"
  },
  "kernelspec": {
   "display_name": "Python 3.6.9 64-bit",
   "language": "python",
   "name": "python3"
  },
  "language_info": {
   "codemirror_mode": {
    "name": "ipython",
    "version": 3
   },
   "file_extension": ".py",
   "mimetype": "text/x-python",
   "name": "python",
   "nbconvert_exporter": "python",
   "pygments_lexer": "ipython3",
   "version": "3.6.9"
  },
  "orig_nbformat": 4
 },
 "nbformat": 4,
 "nbformat_minor": 2
}
