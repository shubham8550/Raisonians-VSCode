{
 "cells": [
  {
   "cell_type": "code",
   "execution_count": 5,
   "metadata": {},
   "outputs": [],
   "source": [
    "string=\"1303563\"\n",
    "# string=\"1303563\"\n",
    "#  string=\"10015681414\"\n"
   ]
  },
  {
   "cell_type": "code",
   "execution_count": 6,
   "metadata": {},
   "outputs": [
    {
     "name": "stdout",
     "output_type": "stream",
     "text": [
      "[]\n",
      "['1']\n",
      "['1', '3']\n",
      "['1', '3', '0']\n",
      "['1', '3', '0']\n",
      "['1', '3', '5']\n",
      "['6', '3', '5']\n"
     ]
    }
   ],
   "source": [
    "ram=[]\n",
    "fault=0\n",
    "hit=0\n",
    "ind=0\n",
    "for i in string:\n",
    "    print(ram)\n",
    "    if(i in ram):\n",
    "        hit+=1\n",
    "        ind=0 if ram.index(i)==2 else ram.index(i)+1\n",
    "        ram[ram.index(i)]=i\n",
    "    else:\n",
    "        if(len(ram)<3):\n",
    "            ram.append(i)\n",
    "            fault+=1\n",
    "        else:\n",
    "            ram[ind]=i\n",
    "            fault+=1\n",
    "            if(ind==2):\n",
    "                ind=0\n",
    "            else:\n",
    "                ind+=1"
   ]
  },
  {
   "cell_type": "code",
   "execution_count": 7,
   "metadata": {},
   "outputs": [
    {
     "data": {
      "text/plain": [
       "['6', '3', '5']"
      ]
     },
     "execution_count": 7,
     "metadata": {},
     "output_type": "execute_result"
    }
   ],
   "source": [
    "ram"
   ]
  },
  {
   "cell_type": "code",
   "execution_count": 8,
   "metadata": {},
   "outputs": [
    {
     "data": {
      "text/plain": [
       "5"
      ]
     },
     "execution_count": 8,
     "metadata": {},
     "output_type": "execute_result"
    }
   ],
   "source": [
    "fault"
   ]
  },
  {
   "cell_type": "code",
   "execution_count": 9,
   "metadata": {},
   "outputs": [
    {
     "data": {
      "text/plain": [
       "2"
      ]
     },
     "execution_count": 9,
     "metadata": {},
     "output_type": "execute_result"
    }
   ],
   "source": [
    "hit"
   ]
  },
  {
   "cell_type": "code",
   "execution_count": 10,
   "metadata": {},
   "outputs": [
    {
     "name": "stdout",
     "output_type": "stream",
     "text": [
      "fault | success =71.42857142857143 | 28.57142857142857\n"
     ]
    }
   ],
   "source": [
    "avg_fault=(fault/len(string))*100\n",
    "avg_successs=(hit/len(string))*100\n",
    "\n",
    "print(\"fault | success =\"+str(avg_fault)+\" | \"+str(avg_successs))"
   ]
  }
 ],
 "metadata": {
  "interpreter": {
   "hash": "31f2aee4e71d21fbe5cf8b01ff0e069b9275f58929596ceb00d14d90e3e16cd6"
  },
  "kernelspec": {
   "display_name": "Python 3.6.9 64-bit",
   "language": "python",
   "name": "python3"
  },
  "language_info": {
   "codemirror_mode": {
    "name": "ipython",
    "version": 3
   },
   "file_extension": ".py",
   "mimetype": "text/x-python",
   "name": "python",
   "nbconvert_exporter": "python",
   "pygments_lexer": "ipython3",
   "version": "3.6.9"
  },
  "orig_nbformat": 4
 },
 "nbformat": 4,
 "nbformat_minor": 2
}
