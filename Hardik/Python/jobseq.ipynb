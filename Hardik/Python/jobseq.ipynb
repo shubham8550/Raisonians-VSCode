{
 "cells": [
  {
   "cell_type": "code",
   "execution_count": 39,
   "metadata": {},
   "outputs": [],
   "source": [
    "job=[\n",
    "     [\"j1\",2,60],\n",
    "     [\"j2\",1,100],\n",
    "     [\"j3\",3,20],\n",
    "     [\"j4\",2,40],\n",
    "     [\"j5\",1,20],\n",
    "]"
   ]
  },
  {
   "cell_type": "code",
   "execution_count": 46,
   "metadata": {},
   "outputs": [
    {
     "data": {
      "text/plain": [
       "[['j2', 1, 100], ['j1', 2, 60], ['j4', 2, 40], ['j5', 1, 20], ['j3', 3, 20]]"
      ]
     },
     "execution_count": 46,
     "metadata": {},
     "output_type": "execute_result"
    }
   ],
   "source": [
    "sorted(job, key = lambda x: x[2],reverse=True)\n",
    "    "
   ]
  },
  {
   "cell_type": "code",
   "execution_count": 43,
   "metadata": {},
   "outputs": [
    {
     "data": {
      "text/plain": [
       "[['j2', 1, 100], ['j5', 1, 20], ['j1', 2, 60], ['j4', 2, 40], ['j3', 3, 20]]"
      ]
     },
     "execution_count": 43,
     "metadata": {},
     "output_type": "execute_result"
    }
   ],
   "source": []
  },
  {
   "cell_type": "code",
   "execution_count": 23,
   "metadata": {},
   "outputs": [],
   "source": [
    "# job=[\n",
    "#      [\"j2\",1,100],\n",
    "#      [\"j1\",2,60],\n",
    "#      [\"j4\",2,40],\n",
    "#      [\"j3\",3,20],\n",
    "#      [\"j5\",1,20],\n",
    "# ]"
   ]
  },
  {
   "cell_type": "code",
   "execution_count": 34,
   "metadata": {},
   "outputs": [
    {
     "name": "stdout",
     "output_type": "stream",
     "text": [
      "j2\n",
      "j1\n",
      "j4\n",
      "j3\n",
      "j5\n"
     ]
    }
   ],
   "source": [
    "output=[]\n",
    "i=0\n",
    "for [j,d,p] in job:\n",
    "    print(j)\n",
    "    if(d >= i+1 ):\n",
    "        output.append([j,d,p])\n",
    "        i+=1\n",
    "\n",
    "    "
   ]
  },
  {
   "cell_type": "code",
   "execution_count": 33,
   "metadata": {},
   "outputs": [
    {
     "data": {
      "text/plain": [
       "[['j2', 1, 100], ['j1', 2, 60], ['j3', 3, 20]]"
      ]
     },
     "execution_count": 33,
     "metadata": {},
     "output_type": "execute_result"
    }
   ],
   "source": [
    "output"
   ]
  },
  {
   "cell_type": "code",
   "execution_count": 35,
   "metadata": {},
   "outputs": [],
   "source": [
    "summ=0\n",
    "for [a,b,c] in output:\n",
    "    summ+=c"
   ]
  },
  {
   "cell_type": "code",
   "execution_count": 37,
   "metadata": {},
   "outputs": [
    {
     "data": {
      "text/plain": [
       "180"
      ]
     },
     "execution_count": 37,
     "metadata": {},
     "output_type": "execute_result"
    }
   ],
   "source": [
    "summ"
   ]
  },
  {
   "cell_type": "code",
   "execution_count": null,
   "metadata": {},
   "outputs": [],
   "source": []
  }
 ],
 "metadata": {
  "interpreter": {
   "hash": "31f2aee4e71d21fbe5cf8b01ff0e069b9275f58929596ceb00d14d90e3e16cd6"
  },
  "kernelspec": {
   "display_name": "Python 3.6.9 64-bit",
   "language": "python",
   "name": "python3"
  },
  "language_info": {
   "codemirror_mode": {
    "name": "ipython",
    "version": 3
   },
   "file_extension": ".py",
   "mimetype": "text/x-python",
   "name": "python",
   "nbconvert_exporter": "python",
   "pygments_lexer": "ipython3",
   "version": "3.6.9"
  },
  "orig_nbformat": 4
 },
 "nbformat": 4,
 "nbformat_minor": 2
}
