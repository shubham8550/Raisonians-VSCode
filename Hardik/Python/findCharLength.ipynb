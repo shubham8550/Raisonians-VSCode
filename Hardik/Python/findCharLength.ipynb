{
 "cells": [
  {
   "cell_type": "code",
   "execution_count": 3,
   "metadata": {},
   "outputs": [],
   "source": [
    "string=\"aabbssssddddiii\""
   ]
  },
  {
   "cell_type": "code",
   "execution_count": 4,
   "metadata": {},
   "outputs": [
    {
     "name": "stdout",
     "output_type": "stream",
     "text": [
      "[['a', 2], ['b', 2], ['s', 4], ['d', 4], ['i', 3]]\n"
     ]
    }
   ],
   "source": [
    "op=[]\n",
    "for c in string:\n",
    "    if(not op):\n",
    "        op.append([c,1])\n",
    "    elif(op[-1][0]==c):\n",
    "        op[-1][1]+=1\n",
    "    else:\n",
    "        op.append([c,1])\n",
    "        \n",
    "\n",
    "print(op)"
   ]
  }
 ],
 "metadata": {
  "interpreter": {
   "hash": "31f2aee4e71d21fbe5cf8b01ff0e069b9275f58929596ceb00d14d90e3e16cd6"
  },
  "kernelspec": {
   "display_name": "Python 3.6.9 64-bit",
   "language": "python",
   "name": "python3"
  },
  "language_info": {
   "codemirror_mode": {
    "name": "ipython",
    "version": 3
   },
   "file_extension": ".py",
   "mimetype": "text/x-python",
   "name": "python",
   "nbconvert_exporter": "python",
   "pygments_lexer": "ipython3",
   "version": "3.6.9"
  },
  "orig_nbformat": 4
 },
 "nbformat": 4,
 "nbformat_minor": 2
}
