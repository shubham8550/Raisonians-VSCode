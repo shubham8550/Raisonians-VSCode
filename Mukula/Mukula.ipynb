{
 "cells": [
  {
   "cell_type": "code",
   "execution_count": null,
   "metadata": {},
   "outputs": [],
   "source": [
    "#include <stdio.h>\n",
    "int main() \n",
    "{\n",
    " int a[10],b[10],x[10],i,j,smallest,count=0,time,n;\n",
    " double avg=0,tt=0,end;\n",
    "  printf(\"enter the number of Processes:\\n\");\n",
    "  scanf(\"%d\",&n); \n",
    " printf(\"enter arrival time\\n\");\n",
    " for(i=0;i<n;i++)\n",
    " scanf(\"%d\",&a[i]);\n",
    " printf(\"enter burst time\\n\");\n",
    " for(i=0;i<n;i++)\n",
    " scanf(\"%d\",&b[i]); \n",
    " for(i=0;i<n;i++)\n",
    " x[i]=b[i];\n",
    "\n",
    "  b[9]=9999;\n",
    "  \n",
    " for(time=0;count!=n;time++)\n",
    " {\n",
    "   smallest=9;\n",
    "  for(i=0;i<n;i++)\n",
    "  {\n",
    "   if(a[i]<=time && b[i]<b[smallest] && b[i]>0 )\n",
    "   smallest=i;\n",
    "  }\n",
    "  b[smallest]--;\n",
    "  if(b[smallest]==0)\n",
    "  {\n",
    "   count++;\n",
    "   end=time+1;\n",
    "   avg=avg+end-a[smallest]-x[smallest];\n",
    "   tt= tt+end-a[smallest];\n",
    "  }\n",
    " }\n",
    " printf(\"\\n\\nAverage waiting time = %lf\\n\",avg/n);\n",
    "    printf(\"Average Turnaround time = %lf\",tt/n);"
   ]
  }
 ],
 "metadata": {
  "language_info": {
   "name": "python"
  },
  "orig_nbformat": 4
 },
 "nbformat": 4,
 "nbformat_minor": 2
}
