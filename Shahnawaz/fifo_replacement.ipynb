{
 "cells": [
  {
   "cell_type": "code",
   "execution_count": 31,
   "metadata": {},
   "outputs": [],
   "source": [
    "# string=\"\"\n",
    "string=\"1303563\"\n",
    "#  string=\"10015681414\"\n"
   ]
  },
  {
   "cell_type": "code",
   "execution_count": 32,
   "metadata": {},
   "outputs": [
    {
     "name": "stdout",
     "output_type": "stream",
     "text": [
      "[]\n",
      "['1']\n",
      "['1', '3']\n",
      "['1', '3', '0']\n",
      "['1', '3', '0']\n",
      "['1', '5', '0']\n",
      "['1', '5', '6']\n"
     ]
    }
   ],
   "source": [
    "ram=[]\n",
    "fault=0\n",
    "hit=0\n",
    "ind=0\n",
    "for i in string:\n",
    "    print(ram)\n",
    "    if(i in ram):\n",
    "        if(i in string):\n",
    "            if(ind==2):\n",
    "                ind=0\n",
    "            else:\n",
    "                ind+=1\n",
    "            hit+=1\n",
    "            ram[ram.index(i)]=i \n",
    "        else:\n",
    "            hit+=1\n",
    "            ram[ram.index(i)]=i \n",
    "        \n",
    "\n",
    "    else:\n",
    "        if(len(ram)<3):\n",
    "            ram.append(i)\n",
    "            fault+=1\n",
    "        else:\n",
    "            ram[ind]=i\n",
    "            fault+=1\n",
    "            if(ind==2):\n",
    "                ind=0\n",
    "            else:\n",
    "                ind+=1"
   ]
  },
  {
   "cell_type": "code",
   "execution_count": 33,
   "metadata": {},
   "outputs": [
    {
     "data": {
      "text/plain": [
       "['3', '5', '6']"
      ]
     },
     "execution_count": 33,
     "metadata": {},
     "output_type": "execute_result"
    }
   ],
   "source": [
    "ram"
   ]
  },
  {
   "cell_type": "code",
   "execution_count": 34,
   "metadata": {},
   "outputs": [
    {
     "data": {
      "text/plain": [
       "6"
      ]
     },
     "execution_count": 34,
     "metadata": {},
     "output_type": "execute_result"
    }
   ],
   "source": [
    "fault"
   ]
  },
  {
   "cell_type": "code",
   "execution_count": 35,
   "metadata": {},
   "outputs": [
    {
     "data": {
      "text/plain": [
       "1"
      ]
     },
     "execution_count": 35,
     "metadata": {},
     "output_type": "execute_result"
    }
   ],
   "source": [
    "hit"
   ]
  },
  {
   "cell_type": "code",
   "execution_count": 36,
   "metadata": {},
   "outputs": [
    {
     "name": "stdout",
     "output_type": "stream",
     "text": [
      "fault | success =85.71428571428571 | 14.285714285714285\n"
     ]
    }
   ],
   "source": [
    "avg_fault=(fault/len(string))*100\n",
    "avg_successs=(hit/len(string))*100\n",
    "\n",
    "print(\"fault | success =\"+str(avg_fault)+\" | \"+str(avg_successs))"
   ]
  }
 ],
 "metadata": {
  "interpreter": {
   "hash": "31f2aee4e71d21fbe5cf8b01ff0e069b9275f58929596ceb00d14d90e3e16cd6"
  },
  "kernelspec": {
   "display_name": "Python 3.6.9 64-bit",
   "language": "python",
   "name": "python3"
  },
  "language_info": {
   "codemirror_mode": {
    "name": "ipython",
    "version": 3
   },
   "file_extension": ".py",
   "mimetype": "text/x-python",
   "name": "python",
   "nbconvert_exporter": "python",
   "pygments_lexer": "ipython3",
   "version": "3.6.9"
  },
  "orig_nbformat": 4
 },
 "nbformat": 4,
 "nbformat_minor": 2
}
